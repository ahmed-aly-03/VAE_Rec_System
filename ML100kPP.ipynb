{
 "cells": [
  {
   "cell_type": "code",
   "execution_count": 1,
   "id": "398f749c",
   "metadata": {},
   "outputs": [],
   "source": [
    "import pandas as pd"
   ]
  },
  {
   "cell_type": "code",
   "execution_count": 2,
   "id": "cf1888d7",
   "metadata": {},
   "outputs": [],
   "source": [
    "columnNames = ['User_id','MovieID','Rating']\n",
    "\n",
    "MovieLens = pd.read_csv(\"/Users/ahmedaly/Desktop/Final_Model/ml-100k/u.data\", sep = '\\t', names = columnNames, \n",
    "        engine = 'python',usecols = [0, 1, 2]) \n",
    "\n",
    "MovieLens = MovieLens.sort_values(by = 'MovieID')"
   ]
  },
  {
   "cell_type": "code",
   "execution_count": 3,
   "id": "05ac27bc",
   "metadata": {},
   "outputs": [],
   "source": [
    "columnNames = ['MovieID','unknown','Action','Adventure','Animation','Childrens','Comedy','Crime','Documentary','Drama'\n",
    "              ,'Fantasy','FilmNoir','Horror','Musical','Mystery','Romance','SciFi','Thriller','War','Western']\n",
    "\n",
    "useCols = [0,5,6,7,8,9,10,11,12,13,14,15,16,17,18,19,20,21,22,23]\n",
    "\n",
    "genreInformation = pd.read_csv('/Users/ahmedaly/Desktop/Final_Model/ml-100k/u.item', sep = '|',\n",
    "        names = columnNames, encoding = 'latin-1', usecols = useCols)"
   ]
  },
  {
   "cell_type": "code",
   "execution_count": 4,
   "id": "6a5673e1",
   "metadata": {},
   "outputs": [],
   "source": [
    "MovieLens = pd.merge(genreInformation,MovieLens, on = 'MovieID')\n",
    "\n",
    "columnOrder = ['User_id', 'MovieID','Rating','unknown','Action','Adventure','Animation','Childrens',\n",
    "               'Comedy','Crime','Documentary','Drama','Fantasy','FilmNoir','Horror','Musical','Mystery'\n",
    "               ,'Romance','SciFi','Thriller','War','Western']\n",
    "\n",
    "MovieLens = MovieLens[columnOrder]"
   ]
  },
  {
   "cell_type": "code",
   "execution_count": 5,
   "id": "2b437d7a",
   "metadata": {},
   "outputs": [],
   "source": [
    "class InteractionMatrix:\n",
    "    def __init__ (self,domainA,domainB):\n",
    "        \n",
    "        columns = ['User_id', 'MovieID', 'Rating', domainA, domainB]\n",
    "        \n",
    "        Movie_Lens_selected_columns = MovieLens[columns] \n",
    "        \n",
    "        self.RatingMatrix = Movie_Lens_selected_columns[(Movie_Lens_selected_columns[domainA] == 1) | \n",
    "                (Movie_Lens_selected_columns[domainB] == 1)]\n",
    "        \n",
    "        self.RatingMatrix = self.RatingMatrix.groupby('User_id').filter(\n",
    "            lambda x: x[domainA].sum() > 0 and x[domainB].sum() > 0)\n",
    "        \n",
    "        self.domainARatingMatrix = self.RatingMatrix[self.RatingMatrix[domainA] == 1 ]\n",
    "        \n",
    "        self.domainBRatingMatrix = self.RatingMatrix[self.RatingMatrix[domainB] == 1 ]\n",
    "\n",
    "        self.domainARatingMatrix = self.domainARatingMatrix.pivot_table(index = 'User_id', columns = 'MovieID',\n",
    "                                                                        values = 'Rating').fillna(0)\n",
    "\n",
    "        self.domainBRatingMatrix = self.domainBRatingMatrix.pivot_table(index = 'User_id', columns = 'MovieID',\n",
    "                                                                        values = 'Rating').fillna(0)\n",
    "        \n",
    "        self.RatingMatrix = self.RatingMatrix.pivot_table(index = 'User_id', columns = 'MovieID', \n",
    "                                                                        values = 'Rating' ).fillna(0)"
   ]
  }
 ],
 "metadata": {
  "kernelspec": {
   "display_name": "Python 3 (ipykernel)",
   "language": "python",
   "name": "python3"
  },
  "language_info": {
   "codemirror_mode": {
    "name": "ipython",
    "version": 3
   },
   "file_extension": ".py",
   "mimetype": "text/x-python",
   "name": "python",
   "nbconvert_exporter": "python",
   "pygments_lexer": "ipython3",
   "version": "3.10.11"
  }
 },
 "nbformat": 4,
 "nbformat_minor": 5
}
