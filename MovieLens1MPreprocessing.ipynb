{
 "cells": [
  {
   "cell_type": "code",
   "execution_count": 1,
   "id": "7068a805",
   "metadata": {},
   "outputs": [],
   "source": [
    "import pandas as pd "
   ]
  },
  {
   "cell_type": "code",
   "execution_count": 2,
   "id": "000497d7",
   "metadata": {},
   "outputs": [],
   "source": [
    "columns_to_use = [0,1,2]\n",
    "\n",
    "column_names = ['User_id', 'MovieID', 'Rating']\n",
    "\n",
    "MovieLens1M = pd.read_csv('/Users/ahmedaly/Desktop/Final_Model/ml-1m/ratings.dat', sep = '::', names = column_names,\n",
    "                          engine = 'python', usecols = columns_to_use)\n",
    "\n",
    "MovieLens1M = MovieLens1M.sort_values(by = 'MovieID')"
   ]
  },
  {
   "cell_type": "code",
   "execution_count": 3,
   "id": "690813b7",
   "metadata": {},
   "outputs": [],
   "source": [
    "column_names_2 = ['MovieID', 'Genres']#checked for null columns and duplicates there were none\n",
    "\n",
    "movie_genres = pd.read_csv('/Users/ahmedaly/Desktop/Final_Model/ml-1m/movies.dat', sep = '::', names = column_names_2,\n",
    "                            encoding = 'latin-1', engine = 'python', usecols = [0,2])"
   ]
  },
  {
   "cell_type": "code",
   "execution_count": 4,
   "id": "d02719ae",
   "metadata": {},
   "outputs": [],
   "source": [
    "binary_movie_genres = movie_genres['Genres'].str.get_dummies('|')\n",
    "\n",
    "movie_genres = pd.concat([movie_genres, binary_movie_genres], axis = 1)\n",
    "\n",
    "movie_genres.drop(['Genres'], axis = 1, inplace = True)"
   ]
  },
  {
   "cell_type": "code",
   "execution_count": 5,
   "id": "5fda5f2f",
   "metadata": {},
   "outputs": [],
   "source": [
    "MovieLens1M = pd.merge(MovieLens1M, movie_genres, on = 'MovieID')"
   ]
  },
  {
   "cell_type": "code",
   "execution_count": 6,
   "id": "1d551803",
   "metadata": {},
   "outputs": [],
   "source": [
    "class RatingMatrix_ML1M:\n",
    "    def __init__ (self,domainA,domainB):\n",
    "        \n",
    "        columns = ['User_id', 'MovieID', 'Rating', domainA, domainB]\n",
    "        \n",
    "        Movie_Lens_selected_columns = MovieLens1M[columns] \n",
    "        \n",
    "        self.ratingMatrix = Movie_Lens_selected_columns[(Movie_Lens_selected_columns[domainA] == 1) | \n",
    "                (Movie_Lens_selected_columns[domainB] == 1)]\n",
    "        \n",
    "        self.ratingMatrix = self.ratingMatrix.groupby('User_id').filter(\n",
    "            lambda x: x[domainA].sum() > 0 and x[domainB].sum() > 0)\n",
    "        \n",
    "        self.domainARatingMatrix = self.ratingMatrix[self.ratingMatrix[domainA] == 1 ]\n",
    "        \n",
    "        self.domainBRatingMatrix = self.ratingMatrix[self.ratingMatrix[domainB] == 1 ]\n",
    "\n",
    "        self.domainARatingMatrix = self.domainARatingMatrix.pivot_table(index = 'User_id', columns = 'MovieID',\n",
    "                                                                        values = 'Rating').fillna(0)\n",
    "\n",
    "        self.domainBRatingMatrix = self.domainBRatingMatrix.pivot_table(index = 'User_id', columns = 'MovieID',\n",
    "                                                                        values = 'Rating').fillna(0)\n",
    "        \n",
    "        self.ratingMatrix = self.ratingMatrix.pivot_table(index = 'User_id', columns = 'MovieID', \n",
    "                                                                        values = 'Rating' ).fillna(0)"
   ]
  }
 ],
 "metadata": {
  "kernelspec": {
   "display_name": "Python 3 (ipykernel)",
   "language": "python",
   "name": "python3"
  },
  "language_info": {
   "codemirror_mode": {
    "name": "ipython",
    "version": 3
   },
   "file_extension": ".py",
   "mimetype": "text/x-python",
   "name": "python",
   "nbconvert_exporter": "python",
   "pygments_lexer": "ipython3",
   "version": "3.10.11"
  }
 },
 "nbformat": 4,
 "nbformat_minor": 5
}
